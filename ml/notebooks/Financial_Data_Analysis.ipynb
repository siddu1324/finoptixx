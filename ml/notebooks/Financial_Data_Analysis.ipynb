{
 "cells": [
  {
   "cell_type": "code",
   "execution_count": 20,
   "id": "299212ff-5e7a-4944-9d80-b8b3b345650a",
   "metadata": {},
   "outputs": [],
   "source": [
    "import pandas as pd\n",
    "from sklearn.model_selection import train_test_split\n",
    "from sklearn.linear_model import LinearRegression\n",
    "from sklearn.metrics import mean_squared_error, r2_score\n"
   ]
  },
  {
   "cell_type": "code",
   "execution_count": 21,
   "id": "5cef3969-2e5b-43cb-a5bf-71fc56f23430",
   "metadata": {},
   "outputs": [],
   "source": [
    "def load_and_prepare_data(filepath):\n",
    "    data = pd.read_csv(filepath)\n",
    "    data.drop(['Date'], axis=1, inplace=True)  # Assuming 'Date' is not used in the model\n",
    "    X = data.drop('Profit', axis=1)  # Features\n",
    "    y = data['Profit']  # Target\n",
    "    return X, y\n"
   ]
  },
  {
   "cell_type": "code",
   "execution_count": 22,
   "id": "7ad64957-9c48-48c0-94c0-e7c34660e509",
   "metadata": {},
   "outputs": [],
   "source": [
    "def train_model(X_train, y_train):\n",
    "    model = LinearRegression()\n",
    "    model.fit(X_train, y_train)\n",
    "    return model\n"
   ]
  },
  {
   "cell_type": "code",
   "execution_count": 23,
   "id": "9c1ecae2-f126-4c30-bbe8-df418411183b",
   "metadata": {},
   "outputs": [],
   "source": [
    "def evaluate_model(model, X_test, y_test):\n",
    "    predictions = model.predict(X_test)\n",
    "    mse = mean_squared_error(y_test, predictions)\n",
    "    r2 = r2_score(y_test, predictions)\n",
    "    print(f\"Mean Squared Error: {mse}\")\n",
    "    print(f\"R^2 Score: {r2}\")\n"
   ]
  },
  {
   "cell_type": "code",
   "execution_count": 24,
   "id": "b0fa72f8-11e6-4807-8b33-a8ca5545b194",
   "metadata": {},
   "outputs": [],
   "source": [
    "def run_financial_modeling_workflow(filepath):\n",
    "    X, y = load_and_prepare_data(filepath)\n",
    "    X_train, X_test, y_train, y_test = train_test_split(X, y, test_size=0.2, random_state=42)\n",
    "    model = train_model(X_train, y_train)\n",
    "    evaluate_model(model, X_test, y_test)\n",
    "    return model\n"
   ]
  },
  {
   "cell_type": "code",
   "execution_count": 25,
   "id": "64f89ee5-78d8-44bc-8884-2d7be159be89",
   "metadata": {},
   "outputs": [
    {
     "name": "stdout",
     "output_type": "stream",
     "text": [
      "Mean Squared Error: 9.16652093603969e-22\n",
      "R^2 Score: 1.0\n"
     ]
    }
   ],
   "source": [
    "# Adjust the file path to where your CSV file is stored\n",
    "model = run_financial_modeling_workflow('../data/daily_financial_data.csv')\n"
   ]
  },
  {
   "cell_type": "code",
   "execution_count": 26,
   "id": "9cf9ad2d-c931-44ed-8d52-fdbb5645813e",
   "metadata": {},
   "outputs": [
    {
     "name": "stdout",
     "output_type": "stream",
     "text": [
      "Average Cross-Validated MSE: 5.966877546768406e-22\n",
      "Average Cross-Validated R^2: 1.0\n"
     ]
    }
   ],
   "source": [
    "import pandas as pd\n",
    "from sklearn.model_selection import train_test_split, cross_val_score\n",
    "from sklearn.linear_model import LinearRegression\n",
    "import numpy as np\n",
    "\n",
    "# Function to load and prepare data\n",
    "def load_and_prepare_data(filepath):\n",
    "    data = pd.read_csv(filepath)\n",
    "    X = data.drop(['Date', 'Profit'], axis=1)  # Assuming 'Date' and 'Profit' are in the dataset\n",
    "    y = data['Profit']\n",
    "    return X, y\n",
    "\n",
    "# Function for cross-validation\n",
    "def cross_validate_model(model, X, y, cv=5):\n",
    "    mse_scores = -cross_val_score(model, X, y, scoring='neg_mean_squared_error', cv=cv)\n",
    "    r2_scores = cross_val_score(model, X, y, scoring='r2', cv=cv)\n",
    "    print(f\"Average Cross-Validated MSE: {np.mean(mse_scores)}\")\n",
    "    print(f\"Average Cross-Validated R^2: {np.mean(r2_scores)}\")\n",
    "\n",
    "# Load and prepare data\n",
    "X, y = load_and_prepare_data('../data/daily_financial_data.csv')\n",
    "\n",
    "# Define the model\n",
    "model = LinearRegression()\n",
    "\n",
    "# Perform cross-validation\n",
    "cross_validate_model(model, X, y)\n"
   ]
  },
  {
   "cell_type": "code",
   "execution_count": 27,
   "id": "ac6da40c-7634-4ad2-9eec-6f587943206d",
   "metadata": {},
   "outputs": [
    {
     "name": "stdout",
     "output_type": "stream",
     "text": [
      "Feature Importances:\n",
      "COGS          0.470661\n",
      "Revenue       0.427728\n",
      "Marketing     0.040455\n",
      "Payroll       0.033108\n",
      "R&D           0.012256\n",
      "Consulting    0.009182\n",
      "Travel        0.006610\n",
      "dtype: float64\n"
     ]
    }
   ],
   "source": [
    "from sklearn.ensemble import RandomForestRegressor\n",
    "\n",
    "# Train a RandomForestRegressor to evaluate feature importance\n",
    "forest_model = RandomForestRegressor(n_estimators=100, random_state=42)\n",
    "forest_model.fit(X, y)\n",
    "\n",
    "# Print feature importances\n",
    "feature_importances = pd.Series(forest_model.feature_importances_, index=X.columns)\n",
    "print(\"Feature Importances:\")\n",
    "print(feature_importances.sort_values(ascending=False))\n"
   ]
  },
  {
   "cell_type": "code",
   "execution_count": 28,
   "id": "9f3c99c8-8655-44bb-a9c8-cd93bb4373f4",
   "metadata": {},
   "outputs": [
    {
     "name": "stdout",
     "output_type": "stream",
     "text": [
      "                          Account Businees Unit Currency  Year Scenario Month  \\\n",
      "0                           Sales      Software      USD  2012  Actuals   Jan   \n",
      "1              Cost of Goods Sold      Software      USD  2012  Actuals   Jan   \n",
      "2             Commissions Expense      Software      USD  2012  Actuals   Jan   \n",
      "3                 Payroll Expense      Software      USD  2012  Actuals   Jan   \n",
      "4  Travel & Entertainment Expense      Software      USD  2012  Actuals   Jan   \n",
      "\n",
      "       Amount       Date  \n",
      "0  90924002.0 2012-01-01  \n",
      "1 -41623278.0 2012-01-01  \n",
      "2  -4454359.0 2012-01-01  \n",
      "3  -9901680.0 2012-01-01  \n",
      "4   -951255.0 2012-01-01  \n"
     ]
    }
   ],
   "source": [
    "import pandas as pd\n",
    "import numpy as np\n",
    "\n",
    "def preprocess_data(filepath):\n",
    "    # Load the data\n",
    "    df = pd.read_csv(filepath)\n",
    "    \n",
    "    # Remove currency formatting and convert to float\n",
    "    for col in df.columns[5:]:  # Assuming financial data starts at column 5\n",
    "        df[col] = df[col].replace('[\\$,)]', '', regex=True).replace('[(]', '-', regex=True).astype(float)\n",
    "    \n",
    "    # Reshape the data from wide to long format if necessary\n",
    "    df = df.melt(id_vars=['Account', 'Businees Unit', 'Currency', 'Year', 'Scenario'], \n",
    "                 var_name='Month', value_name='Amount')\n",
    "    \n",
    "    # Convert 'Month' to a datetime type if necessary\n",
    "    df['Date'] = pd.to_datetime(df['Year'].astype(str) + '-' + df['Month'], format='%Y-%b')\n",
    "\n",
    "    return df\n",
    "\n",
    "# Usage\n",
    "df_processed = preprocess_data('../data/Financials Sample Data.csv')\n",
    "print(df_processed.head())\n"
   ]
  },
  {
   "cell_type": "code",
   "execution_count": 31,
   "id": "f02b6458-64d8-4ba1-97ef-6755d8fcdce4",
   "metadata": {},
   "outputs": [
    {
     "data": {
      "text/plain": [
       "['forest_model.pkl']"
      ]
     },
     "execution_count": 31,
     "metadata": {},
     "output_type": "execute_result"
    }
   ],
   "source": [
    "import joblib\n",
    "joblib.dump(forest_model, 'forest_model.pkl')\n"
   ]
  },
  {
   "cell_type": "code",
   "execution_count": 32,
   "id": "411f0aa6-07c4-4f2b-9db5-905d0b9eb74b",
   "metadata": {},
   "outputs": [
    {
     "name": "stdout",
     "output_type": "stream",
     "text": [
      "total 57728\n",
      "-rw-r--r--  1 siddharthareddy  staff      8383 Apr 27 18:50 Financial_Data_Analysis.ipynb\n",
      "-rw-r--r--  1 siddharthareddy  staff  29543857 Apr 27 18:49 forest_model.pkl\n"
     ]
    }
   ],
   "source": [
    "!ls -l\n"
   ]
  },
  {
   "cell_type": "code",
   "execution_count": 33,
   "id": "68d7e66b-58d0-4016-9f01-ae8d85bcdc5f",
   "metadata": {},
   "outputs": [
    {
     "name": "stdout",
     "output_type": "stream",
     "text": [
      "[ 9982.57037081 13436.30453284]\n"
     ]
    }
   ],
   "source": [
    "# Create synthetic test data similar to your model's training dataset\n",
    "import numpy as np\n",
    "import pandas as pd\n",
    "\n",
    "# Define a DataFrame with column names that your model expects\n",
    "# Let's assume these values:\n",
    "data = {\n",
    "    'Revenue': [100000, 120000],    # Example revenue in dollars\n",
    "    'COGS': [60000, 70000],         # Example cost of goods sold\n",
    "    'Payroll': [20000, 25000],      # Example payroll expenses\n",
    "    'Marketing': [5000, 6000],      # Marketing expenses\n",
    "    'R&D': [8000, 9500],            # Research and Development expenses\n",
    "    'Consulting': [3000, 3500],     # Consulting fees\n",
    "    'Travel': [2000, 2500]          # Travel expenses\n",
    "}\n",
    "\n",
    "# Convert the dictionary to a DataFrame\n",
    "input_data = pd.DataFrame(data)\n",
    "\n",
    "# Load the model (assuming it's in the same directory and named correctly)\n",
    "loaded_model = joblib.load('forest_model.pkl')\n",
    "\n",
    "# Make predictions using the loaded model\n",
    "predictions = loaded_model.predict(input_data)\n",
    "\n",
    "# Print predictions\n",
    "print(predictions)\n"
   ]
  },
  {
   "cell_type": "code",
   "execution_count": null,
   "id": "d523669b-a4a0-4147-80ed-53564d286d9b",
   "metadata": {},
   "outputs": [],
   "source": []
  }
 ],
 "metadata": {
  "kernelspec": {
   "display_name": "Python 3 (ipykernel)",
   "language": "python",
   "name": "python3"
  },
  "language_info": {
   "codemirror_mode": {
    "name": "ipython",
    "version": 3
   },
   "file_extension": ".py",
   "mimetype": "text/x-python",
   "name": "python",
   "nbconvert_exporter": "python",
   "pygments_lexer": "ipython3",
   "version": "3.11.7"
  }
 },
 "nbformat": 4,
 "nbformat_minor": 5
}
